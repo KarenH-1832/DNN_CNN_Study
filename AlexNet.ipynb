{
 "cells": [
  {
   "cell_type": "code",
   "execution_count": 11,
   "id": "4b534c19",
   "metadata": {},
   "outputs": [],
   "source": [
    "import torch\n",
    "import torch.nn as nn\n",
    "from torch.utils.data import DataLoader\n",
    "from torchvision import transforms\n",
    "from torchvision import datasets\n",
    "import matplotlib.pyplot as plt\n",
    "%matplotlib inline"
   ]
  },
  {
   "cell_type": "code",
   "execution_count": 12,
   "id": "64b4846e",
   "metadata": {},
   "outputs": [],
   "source": [
    "# 展示高清图\n",
    "from matplotlib_inline import backend_inline\n",
    "backend_inline.set_matplotlib_formats('svg')"
   ]
  },
  {
   "cell_type": "code",
   "execution_count": 13,
   "id": "bb1b83a2",
   "metadata": {},
   "outputs": [],
   "source": [
    "# Dataset\n",
    "\n",
    "transform = transforms.Compose([\n",
    "    transforms.ToTensor(),\n",
    "    transforms.Resize(224),   # resize MNIST to 224 mimic ImageNet\n",
    "    transforms.Normalize(0.1307, 0.3081)\n",
    "])\n",
    "\n",
    "# Download datasets\n",
    "train_Data = datasets.MNIST(\n",
    "    root = 'D:/Jupyter/DNN/dataset/mnist',\n",
    "    train = True,\n",
    "    download = True,\n",
    "    transform = transform\n",
    ")\n",
    "\n",
    "\n",
    "test_Data = datasets.MNIST(\n",
    "    root = 'D:/Jupyter/DNN/dataset/mnist',\n",
    "    train = False,\n",
    "    download = True,\n",
    "    transform = transform\n",
    ")"
   ]
  },
  {
   "cell_type": "code",
   "execution_count": 14,
   "id": "0b8005cd",
   "metadata": {},
   "outputs": [],
   "source": [
    "# batch loader\n",
    "\n",
    "train_loader = DataLoader(train_Data, shuffle=True, batch_size=64)\n",
    "test_loader = DataLoader(test_Data, shuffle=False, batch_size=64)"
   ]
  },
  {
   "cell_type": "code",
   "execution_count": 18,
   "id": "d4560aa1",
   "metadata": {},
   "outputs": [],
   "source": [
    "# Build AlexNet\n",
    "\n",
    "class AlexNet(nn.Module):\n",
    "    def __init__(self):\n",
    "        super(AlexNet,self).__init__()\n",
    "    \n",
    "        self.net = nn.Sequential( \n",
    "            # Build neural network\n",
    "            nn.Conv2d(1, 96, kernel_size=11, stride=4, padding=1), nn.ReLU(), \n",
    "            nn.MaxPool2d(kernel_size=3, stride=2),\n",
    "            nn.Conv2d(96, 256, kernel_size=5, padding=2), nn.ReLU(),\n",
    "            nn.MaxPool2d(kernel_size=3, stride=2),\n",
    "            nn.Conv2d(256, 384, kernel_size=3, padding=1), nn.ReLU(),\n",
    "            nn.Conv2d(384, 384, kernel_size=3, padding=1), nn.ReLU(),\n",
    "            nn.Conv2d(384, 256, kernel_size=3, padding=1), nn.ReLU(),\n",
    "            nn.MaxPool2d(kernel_size=3, stride=2),\n",
    "            nn.Flatten(),\n",
    "            nn.Linear(6400, 4096), nn.ReLU(),\n",
    "            nn.Dropout(p=0.5),                   # Dropout\n",
    "            nn.Linear(4096, 4096), nn.ReLU(),\n",
    "            nn.Dropout(p=0.5),                  \n",
    "            nn.Linear(4096, 10)\n",
    "        )\n",
    "# Dropout\n",
    "# Randomly sets a fraction \"p\" of the neuron outputs to zero in that layer during each forward pass\n",
    "\n",
    "# AlexNet\n",
    "# 3 fully connected layers, 5 convolutional layers, deeper than most previous models\n",
    "# ReLU, training faster and reduced vanishing gradients, previously tanh / sigmoid\n",
    "# Dropout introduced, reduce overfitting\n",
    "# Trained on two GPUs in parallel\n",
    "        \n",
    "    def forward(self, x):\n",
    "        # forward propagation\n",
    "        y = self.net(x) \n",
    "        return y       "
   ]
  },
  {
   "cell_type": "code",
   "execution_count": 19,
   "id": "da4af571",
   "metadata": {},
   "outputs": [
    {
     "name": "stdout",
     "output_type": "stream",
     "text": [
      "Conv2d output shape: \t torch.Size([1, 96, 54, 54])\n",
      "ReLU output shape: \t torch.Size([1, 96, 54, 54])\n",
      "MaxPool2d output shape: \t torch.Size([1, 96, 26, 26])\n",
      "Conv2d output shape: \t torch.Size([1, 256, 26, 26])\n",
      "ReLU output shape: \t torch.Size([1, 256, 26, 26])\n",
      "MaxPool2d output shape: \t torch.Size([1, 256, 12, 12])\n",
      "Conv2d output shape: \t torch.Size([1, 384, 12, 12])\n",
      "ReLU output shape: \t torch.Size([1, 384, 12, 12])\n",
      "Conv2d output shape: \t torch.Size([1, 384, 12, 12])\n",
      "ReLU output shape: \t torch.Size([1, 384, 12, 12])\n",
      "Conv2d output shape: \t torch.Size([1, 256, 12, 12])\n",
      "ReLU output shape: \t torch.Size([1, 256, 12, 12])\n",
      "MaxPool2d output shape: \t torch.Size([1, 256, 5, 5])\n",
      "Flatten output shape: \t torch.Size([1, 6400])\n",
      "Linear output shape: \t torch.Size([1, 4096])\n",
      "ReLU output shape: \t torch.Size([1, 4096])\n",
      "Dropout output shape: \t torch.Size([1, 4096])\n",
      "Linear output shape: \t torch.Size([1, 4096])\n",
      "ReLU output shape: \t torch.Size([1, 4096])\n",
      "Dropout output shape: \t torch.Size([1, 4096])\n",
      "Linear output shape: \t torch.Size([1, 10])\n"
     ]
    }
   ],
   "source": [
    "# Examine Net Structure\n",
    "X = torch.rand(size= (1, 1, 224, 224)) # 224 instead of 28\n",
    "for layer in AlexNet().net:\n",
    "    X = layer(X)\n",
    "    print(layer.__class__.__name__, 'output shape: \\t', X.shape)"
   ]
  },
  {
   "cell_type": "code",
   "execution_count": null,
   "id": "2f91451a",
   "metadata": {},
   "outputs": [],
   "source": [
    "model = AlexNet().to('cuda:0')\n",
    "loss_fn = nn.CrossEntropyLoss()\n",
    "learning_rate = 0.1\n",
    "optimizer = torch.optim.SGD(\n",
    "    model.parameters(),\n",
    "    lr = learning_rate\n",
    ")"
   ]
  },
  {
   "cell_type": "code",
   "execution_count": null,
   "id": "87d40d1f",
   "metadata": {},
   "outputs": [],
   "source": [
    "# Training Network\n",
    "epochs = 10\n",
    "losses = []    \n",
    "\n",
    "for epoch in range(epochs):\n",
    "    for(x,y) in train_loader:                \n",
    "        x, y = x.to('cuda:0'), y.to('cuda:0') \n",
    "        Pred = model(x)\n",
    "        loss = loss_fn(Pred, y)\n",
    "        losses.append(loss.item())\n",
    "        optimizer.zero_grad()\n",
    "        loss.backward()\n",
    "        optimizer.step()\n",
    "\n",
    "Fig = plt.figure()\n",
    "plt.plot(range(len(losses)), losses)\n",
    "plt.show()"
   ]
  },
  {
   "cell_type": "code",
   "execution_count": null,
   "id": "8e8fa1ab",
   "metadata": {},
   "outputs": [],
   "source": [
    "correct = 0\n",
    "total = 0\n",
    "\n",
    "with torch.no_grad():     \n",
    "    for(x, y) in test_loader:  \n",
    "        x, y = x.to('cuda:0'), y.to('cuda:0')\n",
    "        Pred = model(x)       \n",
    "        \n",
    "        _, predicted = torch.max(Pred.data, dim = 1)\n",
    "        correct += torch.sum( (predicted == y) )\n",
    "        total += y.size(0)\n",
    "\n",
    "print(f\"Test Accuracy：{100*correct/total}%\")"
   ]
  },
  {
   "cell_type": "code",
   "execution_count": null,
   "id": "40bcc399",
   "metadata": {},
   "outputs": [],
   "source": []
  }
 ],
 "metadata": {
  "kernelspec": {
   "display_name": "DL",
   "language": "python",
   "name": "dl"
  },
  "language_info": {
   "codemirror_mode": {
    "name": "ipython",
    "version": 3
   },
   "file_extension": ".py",
   "mimetype": "text/x-python",
   "name": "python",
   "nbconvert_exporter": "python",
   "pygments_lexer": "ipython3",
   "version": "3.9.21"
  }
 },
 "nbformat": 4,
 "nbformat_minor": 5
}
