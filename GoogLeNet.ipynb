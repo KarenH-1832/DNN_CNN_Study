{
 "cells": [
  {
   "cell_type": "code",
   "execution_count": 1,
   "id": "b4ea069d",
   "metadata": {},
   "outputs": [],
   "source": [
    "import torch\n",
    "import torch.nn as nn\n",
    "from torch.utils.data import DataLoader\n",
    "from torchvision import transforms\n",
    "from torchvision import datasets\n",
    "import matplotlib.pyplot as plt\n",
    "%matplotlib inline"
   ]
  },
  {
   "cell_type": "code",
   "execution_count": 2,
   "id": "a795fcb9",
   "metadata": {},
   "outputs": [],
   "source": [
    "from matplotlib_inline import backend_inline\n",
    "backend_inline.set_matplotlib_formats('svg')"
   ]
  },
  {
   "cell_type": "code",
   "execution_count": 4,
   "id": "b1d3c5ea",
   "metadata": {},
   "outputs": [],
   "source": [
    "# Dataset\n",
    "\n",
    "transform = transforms.Compose([\n",
    "    transforms.ToTensor(),\n",
    "    transforms.Normalize(0.1307, 0.3081)\n",
    "])\n",
    "\n",
    "# Download datasets\n",
    "train_Data = datasets.MNIST(\n",
    "    root = 'D:/Jupyter/DNN/dataset/mnist',\n",
    "    train = True,\n",
    "    download = True,\n",
    "    transform = transform\n",
    ")\n",
    "\n",
    "\n",
    "test_Data = datasets.MNIST(\n",
    "    root = 'D:/Jupyter/DNN/dataset/mnist',\n",
    "    train = False,\n",
    "    download = True,\n",
    "    transform = transform\n",
    ")"
   ]
  },
  {
   "cell_type": "code",
   "execution_count": 5,
   "id": "c1e5ce30",
   "metadata": {},
   "outputs": [],
   "source": [
    "# batch loader\n",
    "\n",
    "train_loader = DataLoader(train_Data, shuffle=True, batch_size=64)\n",
    "test_loader = DataLoader(test_Data, shuffle=False, batch_size=64)"
   ]
  },
  {
   "cell_type": "code",
   "execution_count": 6,
   "id": "d4cffc41",
   "metadata": {},
   "outputs": [],
   "source": [
    "class Inception(nn.Module):\n",
    "    def __init__(self, in_channels):   # in_channels: input parameters\n",
    "        super(Inception, self).__init__()\n",
    "        \n",
    "        # 1st branch\n",
    "        # one convolution layer, no need for nn.Sequential\n",
    "        self.branch1 = nn.Conv2d(in_channels, 16, kernel_size=1)\n",
    "        \n",
    "        # 2nd branch\n",
    "        self.branch2 = nn.Sequential(\n",
    "            nn.Conv2d(in_channels, 16, kernel_size=1),\n",
    "            nn.Conv2d(16, 24, kernel_size=3, padding=1),\n",
    "            nn.Conv2d(24, 24, kernel_size=3, padding=1)\n",
    "        )\n",
    "        \n",
    "        # 3rd branch\n",
    "        self.branch3 = nn.Sequential(\n",
    "            nn.Conv2d(in_channels, 16, kernel_size=1),\n",
    "            nn.Conv2d(16, 24, kernel_size=5, padding=2)\n",
    "        )\n",
    "        \n",
    "        # 4th branch \n",
    "        self.branch4 = nn.Conv2d(in_channels, 24, kernel_size=1)\n",
    "        \n",
    "    def forward(self,x):\n",
    "        # Parallel\n",
    "        branch1 = self.branch1(x)\n",
    "        branch2 = self.branch2(x)\n",
    "        branch3 = self.branch3(x)\n",
    "        branch4 = self.branch4(x)\n",
    "        \n",
    "        outputs = [branch1, branch2, branch3, branch4]\n",
    "        return torch.cat(outputs, 1)\n",
    "\n",
    "# branch 2 and 3 with additional 1x1 filter, to reduce no. of branch and model complexity\n",
    "# no.channel 64  =>  16"
   ]
  },
  {
   "cell_type": "code",
   "execution_count": 7,
   "id": "5479b635",
   "metadata": {},
   "outputs": [],
   "source": [
    "class GoogLeNet(nn.Module):\n",
    "    def __init__(self):\n",
    "        super(GoogLeNet, self).__init__()\n",
    "        self.net=nn.Sequential(\n",
    "            nn.Conv2d(1,10,kernel_size=5), nn.ReLU(),\n",
    "            nn.MaxPool2d(kernel_size=2, stride=2),\n",
    "            Inception(in_channels=10), # small net within big net\n",
    "            \n",
    "            nn.Conv2d(88,20,kernel_size=5),nn.ReLU(), # Sum of each branch's output channel = 16+24+24+24=88\n",
    "            nn.MaxPool2d(kernel_size=2, stride=2), #[20, 8, 8] => [20, 4, 4]\n",
    "            Inception(in_channels=20), # Output[88, 4, 4]\n",
    "            \n",
    "            nn.Flatten(), # 88 * 4 * 4 = 1408\n",
    "            nn.Linear(1408,10)\n",
    "        )\n",
    "    \n",
    "    def forward(self, x):\n",
    "        # forward propagation\n",
    "        y = self.net(x) \n",
    "        return y       "
   ]
  },
  {
   "cell_type": "code",
   "execution_count": 9,
   "id": "ea737713",
   "metadata": {},
   "outputs": [
    {
     "name": "stdout",
     "output_type": "stream",
     "text": [
      "Conv2d output shape: \t torch.Size([1, 10, 24, 24])\n",
      "ReLU output shape: \t torch.Size([1, 10, 24, 24])\n",
      "MaxPool2d output shape: \t torch.Size([1, 10, 12, 12])\n",
      "Inception output shape: \t torch.Size([1, 88, 12, 12])\n",
      "Conv2d output shape: \t torch.Size([1, 20, 8, 8])\n",
      "ReLU output shape: \t torch.Size([1, 20, 8, 8])\n",
      "MaxPool2d output shape: \t torch.Size([1, 20, 4, 4])\n",
      "Inception output shape: \t torch.Size([1, 88, 4, 4])\n",
      "Flatten output shape: \t torch.Size([1, 1408])\n",
      "Linear output shape: \t torch.Size([1, 10])\n"
     ]
    }
   ],
   "source": [
    "# Examine Net Structure\n",
    "X = torch.rand(size= (1, 1, 28, 28))\n",
    "for layer in GoogLeNet().net:\n",
    "    X = layer(X)\n",
    "    print(layer.__class__.__name__, 'output shape: \\t', X.shape)"
   ]
  },
  {
   "cell_type": "code",
   "execution_count": 10,
   "id": "becc19eb",
   "metadata": {},
   "outputs": [],
   "source": [
    "model = GoogLeNet().to('cuda:0')\n",
    "loss_fn = nn.CrossEntropyLoss()\n",
    "learning_rate = 0.1\n",
    "optimizer = torch.optim.SGD(\n",
    "    model.parameters(),\n",
    "    lr=learning_rate\n",
    ")"
   ]
  },
  {
   "cell_type": "code",
   "execution_count": null,
   "id": "b19862a4",
   "metadata": {},
   "outputs": [],
   "source": [
    "# Training Network\n",
    "epochs = 10\n",
    "losses = []    \n",
    "\n",
    "for epoch in range(epochs):\n",
    "    for(x,y) in train_loader:                \n",
    "        x, y = x.to('cuda:0'), y.to('cuda:0') \n",
    "        Pred = model(x)\n",
    "        loss = loss_fn(Pred, y)\n",
    "        losses.append(loss.item())\n",
    "        optimizer.zero_grad()\n",
    "        loss.backward()\n",
    "        optimizer.step()\n",
    "\n",
    "Fig = plt.figure()\n",
    "plt.plot(range(len(losses)), losses)\n",
    "plt.show()"
   ]
  },
  {
   "cell_type": "code",
   "execution_count": null,
   "id": "2a626fcd",
   "metadata": {},
   "outputs": [],
   "source": [
    "correct = 0\n",
    "total = 0\n",
    "\n",
    "with torch.no_grad():     \n",
    "    for(x, y) in test_loader:  \n",
    "        x, y = x.to('cuda:0'), y.to('cuda:0')\n",
    "        Pred = model(x)       \n",
    "        \n",
    "        _, predicted = torch.max(Pred.data, dim = 1)\n",
    "        correct += torch.sum( (predicted == y) )\n",
    "        total += y.size(0)\n",
    "\n",
    "print(f\"Test Accuracy：{100*correct/total}%\")"
   ]
  }
 ],
 "metadata": {
  "kernelspec": {
   "display_name": "DL",
   "language": "python",
   "name": "dl"
  },
  "language_info": {
   "codemirror_mode": {
    "name": "ipython",
    "version": 3
   },
   "file_extension": ".py",
   "mimetype": "text/x-python",
   "name": "python",
   "nbconvert_exporter": "python",
   "pygments_lexer": "ipython3",
   "version": "3.9.21"
  }
 },
 "nbformat": 4,
 "nbformat_minor": 5
}
