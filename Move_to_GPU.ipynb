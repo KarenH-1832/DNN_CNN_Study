{
 "cells": [
  {
   "cell_type": "code",
   "execution_count": 1,
   "id": "516ce0d7",
   "metadata": {},
   "outputs": [],
   "source": [
    "import torch"
   ]
  },
  {
   "cell_type": "code",
   "execution_count": 2,
   "id": "085c7d97",
   "metadata": {},
   "outputs": [
    {
     "data": {
      "text/plain": [
       "tensor([[ 0.7570, -0.6869, -1.2895, -0.6667],\n",
       "        [-1.2387,  0.5390,  0.1357, -0.3866],\n",
       "        [-0.8665,  0.2654,  0.2441, -1.2889]])"
      ]
     },
     "execution_count": 2,
     "metadata": {},
     "output_type": "execute_result"
    }
   ],
   "source": [
    "# 默认张量存储在CPU上\n",
    "ts1 = torch.randn(3,4)\n",
    "ts1"
   ]
  },
  {
   "cell_type": "code",
   "execution_count": 3,
   "id": "f583c5cd",
   "metadata": {},
   "outputs": [
    {
     "data": {
      "text/plain": [
       "tensor([[ 0.7570, -0.6869, -1.2895, -0.6667],\n",
       "        [-1.2387,  0.5390,  0.1357, -0.3866],\n",
       "        [-0.8665,  0.2654,  0.2441, -1.2889]], device='cuda:0')"
      ]
     },
     "execution_count": 3,
     "metadata": {},
     "output_type": "execute_result"
    }
   ],
   "source": [
    "# 移动到GPU\n",
    "ts2 = ts1.to('cuda:0')\n",
    "ts2"
   ]
  },
  {
   "cell_type": "code",
   "execution_count": null,
   "id": "a96fcdf2",
   "metadata": {},
   "outputs": [],
   "source": [
    "# 数据集已搬运到GPU，神经网络模型也要搬运到GPU才可运行\n",
    "# 搭建神经网络的类 （详情见第三章）（？）\n",
    "class DNN(toch.nn.Module):\n",
    "    pass\n",
    "# 根据神经网络的类创建一个网络\n",
    "model=DNN().to('cuda:0') # 把网络搬到GPU"
   ]
  },
  {
   "cell_type": "code",
   "execution_count": null,
   "id": "a79cff70",
   "metadata": {},
   "outputs": [],
   "source": []
  }
 ],
 "metadata": {
  "kernelspec": {
   "display_name": "DL",
   "language": "python",
   "name": "dl"
  },
  "language_info": {
   "codemirror_mode": {
    "name": "ipython",
    "version": 3
   },
   "file_extension": ".py",
   "mimetype": "text/x-python",
   "name": "python",
   "nbconvert_exporter": "python",
   "pygments_lexer": "ipython3",
   "version": "3.9.21"
  }
 },
 "nbformat": 4,
 "nbformat_minor": 5
}
