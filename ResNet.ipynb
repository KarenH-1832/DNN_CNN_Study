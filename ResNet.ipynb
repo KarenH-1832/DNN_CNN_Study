{
 "cells": [
  {
   "cell_type": "code",
   "execution_count": 1,
   "id": "11dc8adf",
   "metadata": {},
   "outputs": [],
   "source": [
    "import torch\n",
    "import torch.nn as nn\n",
    "from torch.utils.data import DataLoader\n",
    "from torchvision import transforms\n",
    "from torchvision import data　sets\n",
    "import matplotlib.pyplot as plt\n",
    "%matplotlib inline"
   ]
  },
  {
   "cell_type": "code",
   "execution_count": 6,
   "id": "d30e420d",
   "metadata": {},
   "outputs": [],
   "source": [
    "# Residual Block\n",
    "\n",
    "class ResidualBlock(nn.Module):\n",
    "    def __init__(self, channels): # Input no. channels\n",
    "        super(ResidualBlock,self).__init__()\n",
    "    \n",
    "        self.net = nn.Sequential(\n",
    "            # Input and Output Size same\n",
    "            nn.Conv2d(channels, channels, kernel_size=3, padding=1),\n",
    "            nn.ReLU(),\n",
    "            nn.Conv2d(channels, channels, kernel_size=3, padding=1)\n",
    "        )\n",
    "        \n",
    "    def forward(self,x):\n",
    "        y=self.net(x)\n",
    "        # acquire y, send relu(x+y) to output\n",
    "        return nn.functional.relu(x+y) "
   ]
  },
  {
   "cell_type": "code",
   "execution_count": 7,
   "id": "672670b0",
   "metadata": {},
   "outputs": [],
   "source": [
    "class ResNet(nn.Module):\n",
    "    def __init__(self): \n",
    "        super(ResNet,self).__init__()\n",
    "        self.net=nn.Sequential(\n",
    "            nn.Conv2d(1, 16, kernel_size=5), nn.ReLU(),\n",
    "            nn.MaxPool2d(2), \n",
    "            ResidualBlock(16), # small net within big net\n",
    "            \n",
    "            nn.Conv2d(16, 32, kernel_size=5), nn.ReLU(),\n",
    "            nn.MaxPool2d(2),\n",
    "            ResidualBlock(32),\n",
    "            \n",
    "            nn.Flatten(),\n",
    "            nn.Linear(512,10)\n",
    "        )\n",
    "    def forward(self,x):\n",
    "        y = self.net(x)"
   ]
  },
  {
   "cell_type": "code",
   "execution_count": 8,
   "id": "d5d45bd3",
   "metadata": {},
   "outputs": [
    {
     "name": "stdout",
     "output_type": "stream",
     "text": [
      "Conv2d output shape: \t torch.Size([1, 16, 24, 24])\n",
      "ReLU output shape: \t torch.Size([1, 16, 24, 24])\n",
      "MaxPool2d output shape: \t torch.Size([1, 16, 12, 12])\n",
      "ResidualBlock output shape: \t torch.Size([1, 16, 12, 12])\n",
      "Conv2d output shape: \t torch.Size([1, 32, 8, 8])\n",
      "ReLU output shape: \t torch.Size([1, 32, 8, 8])\n",
      "MaxPool2d output shape: \t torch.Size([1, 32, 4, 4])\n",
      "ResidualBlock output shape: \t torch.Size([1, 32, 4, 4])\n",
      "Flatten output shape: \t torch.Size([1, 512])\n",
      "Linear output shape: \t torch.Size([1, 10])\n"
     ]
    }
   ],
   "source": [
    "# Examine Net Structure\n",
    "X = torch.rand(size= (1, 1, 28, 28))\n",
    "for layer in ResNet().net:\n",
    "    X = layer(X)\n",
    "    print(layer.__class__.__name__, 'output shape: \\t', X.shape)"
   ]
  },
  {
   "cell_type": "code",
   "execution_count": null,
   "id": "df4348cd",
   "metadata": {},
   "outputs": [],
   "source": []
  }
 ],
 "metadata": {
  "kernelspec": {
   "display_name": "DL",
   "language": "python",
   "name": "dl"
  },
  "language_info": {
   "codemirror_mode": {
    "name": "ipython",
    "version": 3
   },
   "file_extension": ".py",
   "mimetype": "text/x-python",
   "name": "python",
   "nbconvert_exporter": "python",
   "pygments_lexer": "ipython3",
   "version": "3.9.21"
  }
 },
 "nbformat": 4,
 "nbformat_minor": 5
}
